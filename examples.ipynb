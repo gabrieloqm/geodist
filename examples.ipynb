{
 "cells": [
  {
   "cell_type": "code",
   "execution_count": 26,
   "metadata": {},
   "outputs": [],
   "source": [
    "from dgh import dist_geo_haversine\n",
    "import pandas as pd\n",
    "import numpy as np"
   ]
  },
  {
   "cell_type": "markdown",
   "metadata": {},
   "source": [
    "# Generating Data Synthetic\n"
   ]
  },
  {
   "cell_type": "code",
   "execution_count": 27,
   "metadata": {},
   "outputs": [],
   "source": [
    "A=pd.DataFrame({'Cpf':list(range(0,1000)),'Lat':np.random.uniform(0,1,1000),'Long':np.random.uniform(0,1,1000),'Age':np.random.gamma(5,10,1000)})\n",
    "\n",
    "B=pd.DataFrame({'Cpf':list(range(0,100000)),'Lat':np.random.uniform(0,1,100000),'Long':np.random.uniform(0,1,100000),'Age':np.random.gamma(5,10,100000)})"
   ]
  },
  {
   "cell_type": "code",
   "execution_count": null,
   "metadata": {},
   "outputs": [],
   "source": [
    "# Create function to calculated the features "
   ]
  },
  {
   "cell_type": "code",
   "execution_count": 28,
   "metadata": {},
   "outputs": [],
   "source": [
    "def sample(x):\n",
    "   return pd.Series({'AVG':np.mean(x['Age']),'STD':np.std(x['Age']),'QTD':x.shape[0]})\n"
   ]
  },
  {
   "cell_type": "markdown",
   "metadata": {},
   "source": [
    "# For two dataset \n",
    "\n",
    " The init function dist_geo_haversine is necessary add all values of parameters with choice of user."
   ]
  },
  {
   "cell_type": "code",
   "execution_count": 29,
   "metadata": {},
   "outputs": [],
   "source": [
    "dist=dist_geo_haversine(dt_ref=A,dt_comp=B,km=15,n_lat='Lat',\n",
    "n_long='Long',path='C:/Users/valteresj/Documents/Projetos/geodist/',func=sample,key='Cpf')"
   ]
  },
  {
   "cell_type": "markdown",
   "metadata": {},
   "source": [
    "# Run Processes"
   ]
  },
  {
   "cell_type": "code",
   "execution_count": 30,
   "metadata": {},
   "outputs": [
    {
     "name": "stderr",
     "output_type": "stream",
     "text": [
      "100%|█████████████████████████████████████████████████████████████████████████████| 1000/1000 [00:07<00:00, 128.64it/s]\n"
     ]
    }
   ],
   "source": [
    "result=dist.vizinhos_geo()"
   ]
  },
  {
   "cell_type": "code",
   "execution_count": 31,
   "metadata": {},
   "outputs": [
    {
     "data": {
      "text/html": [
       "<div>\n",
       "<style scoped>\n",
       "    .dataframe tbody tr th:only-of-type {\n",
       "        vertical-align: middle;\n",
       "    }\n",
       "\n",
       "    .dataframe tbody tr th {\n",
       "        vertical-align: top;\n",
       "    }\n",
       "\n",
       "    .dataframe thead th {\n",
       "        text-align: right;\n",
       "    }\n",
       "</style>\n",
       "<table border=\"1\" class=\"dataframe\">\n",
       "  <thead>\n",
       "    <tr style=\"text-align: right;\">\n",
       "      <th></th>\n",
       "      <th>Cpf</th>\n",
       "      <th>Lat</th>\n",
       "      <th>Long</th>\n",
       "      <th>Age</th>\n",
       "      <th>AVG</th>\n",
       "      <th>STD</th>\n",
       "      <th>QTD</th>\n",
       "    </tr>\n",
       "  </thead>\n",
       "  <tbody>\n",
       "    <tr>\n",
       "      <th>0</th>\n",
       "      <td>0</td>\n",
       "      <td>0.969486</td>\n",
       "      <td>0.333463</td>\n",
       "      <td>23.799835</td>\n",
       "      <td>NaN</td>\n",
       "      <td>NaN</td>\n",
       "      <td>NaN</td>\n",
       "    </tr>\n",
       "    <tr>\n",
       "      <th>1</th>\n",
       "      <td>1</td>\n",
       "      <td>0.720954</td>\n",
       "      <td>0.097751</td>\n",
       "      <td>18.679779</td>\n",
       "      <td>NaN</td>\n",
       "      <td>NaN</td>\n",
       "      <td>NaN</td>\n",
       "    </tr>\n",
       "    <tr>\n",
       "      <th>2</th>\n",
       "      <td>2</td>\n",
       "      <td>0.377240</td>\n",
       "      <td>0.474020</td>\n",
       "      <td>83.316580</td>\n",
       "      <td>50.156660</td>\n",
       "      <td>22.591063</td>\n",
       "      <td>4255.0</td>\n",
       "    </tr>\n",
       "    <tr>\n",
       "      <th>3</th>\n",
       "      <td>3</td>\n",
       "      <td>0.932243</td>\n",
       "      <td>0.141865</td>\n",
       "      <td>68.905467</td>\n",
       "      <td>NaN</td>\n",
       "      <td>NaN</td>\n",
       "      <td>NaN</td>\n",
       "    </tr>\n",
       "    <tr>\n",
       "      <th>4</th>\n",
       "      <td>4</td>\n",
       "      <td>0.831720</td>\n",
       "      <td>0.561856</td>\n",
       "      <td>63.964840</td>\n",
       "      <td>48.445147</td>\n",
       "      <td>21.718501</td>\n",
       "      <td>136.0</td>\n",
       "    </tr>\n",
       "  </tbody>\n",
       "</table>\n",
       "</div>"
      ],
      "text/plain": [
       "   Cpf       Lat      Long        Age        AVG        STD     QTD\n",
       "0    0  0.969486  0.333463  23.799835        NaN        NaN     NaN\n",
       "1    1  0.720954  0.097751  18.679779        NaN        NaN     NaN\n",
       "2    2  0.377240  0.474020  83.316580  50.156660  22.591063  4255.0\n",
       "3    3  0.932243  0.141865  68.905467        NaN        NaN     NaN\n",
       "4    4  0.831720  0.561856  63.964840  48.445147  21.718501   136.0"
      ]
     },
     "execution_count": 31,
     "metadata": {},
     "output_type": "execute_result"
    }
   ],
   "source": [
    "result.head()"
   ]
  },
  {
   "cell_type": "markdown",
   "metadata": {},
   "source": [
    "# For same dataset "
   ]
  },
  {
   "cell_type": "code",
   "execution_count": 32,
   "metadata": {},
   "outputs": [],
   "source": [
    "dist=dist_geo_haversine(dt_ref=A,km=15,n_lat='Lat',\n",
    "n_long='Long',path='C:/Users/valteresj/Documents/Projetos/geodist/',func=sample,key='Cpf')"
   ]
  },
  {
   "cell_type": "code",
   "execution_count": 34,
   "metadata": {},
   "outputs": [
    {
     "name": "stderr",
     "output_type": "stream",
     "text": [
      "100%|█████████████████████████████████████████████████████████████████████████████| 1000/1000 [00:03<00:00, 306.18it/s]\n"
     ]
    }
   ],
   "source": [
    "result=dist.vizinhos_geo()"
   ]
  },
  {
   "cell_type": "code",
   "execution_count": 35,
   "metadata": {},
   "outputs": [
    {
     "data": {
      "text/html": [
       "<div>\n",
       "<style scoped>\n",
       "    .dataframe tbody tr th:only-of-type {\n",
       "        vertical-align: middle;\n",
       "    }\n",
       "\n",
       "    .dataframe tbody tr th {\n",
       "        vertical-align: top;\n",
       "    }\n",
       "\n",
       "    .dataframe thead th {\n",
       "        text-align: right;\n",
       "    }\n",
       "</style>\n",
       "<table border=\"1\" class=\"dataframe\">\n",
       "  <thead>\n",
       "    <tr style=\"text-align: right;\">\n",
       "      <th></th>\n",
       "      <th>Cpf</th>\n",
       "      <th>Lat</th>\n",
       "      <th>Long</th>\n",
       "      <th>Age</th>\n",
       "      <th>AVG</th>\n",
       "      <th>STD</th>\n",
       "      <th>QTD</th>\n",
       "    </tr>\n",
       "  </thead>\n",
       "  <tbody>\n",
       "    <tr>\n",
       "      <th>0</th>\n",
       "      <td>0</td>\n",
       "      <td>0.969486</td>\n",
       "      <td>0.333463</td>\n",
       "      <td>23.799835</td>\n",
       "      <td>46.777250</td>\n",
       "      <td>19.311326</td>\n",
       "      <td>43.0</td>\n",
       "    </tr>\n",
       "    <tr>\n",
       "      <th>1</th>\n",
       "      <td>1</td>\n",
       "      <td>0.720954</td>\n",
       "      <td>0.097751</td>\n",
       "      <td>18.679779</td>\n",
       "      <td>56.746118</td>\n",
       "      <td>23.402535</td>\n",
       "      <td>56.0</td>\n",
       "    </tr>\n",
       "    <tr>\n",
       "      <th>2</th>\n",
       "      <td>2</td>\n",
       "      <td>0.377240</td>\n",
       "      <td>0.474020</td>\n",
       "      <td>83.316580</td>\n",
       "      <td>41.842284</td>\n",
       "      <td>19.730031</td>\n",
       "      <td>51.0</td>\n",
       "    </tr>\n",
       "    <tr>\n",
       "      <th>3</th>\n",
       "      <td>3</td>\n",
       "      <td>0.932243</td>\n",
       "      <td>0.141865</td>\n",
       "      <td>68.905467</td>\n",
       "      <td>56.403298</td>\n",
       "      <td>26.240129</td>\n",
       "      <td>38.0</td>\n",
       "    </tr>\n",
       "    <tr>\n",
       "      <th>4</th>\n",
       "      <td>4</td>\n",
       "      <td>0.831720</td>\n",
       "      <td>0.561856</td>\n",
       "      <td>63.964840</td>\n",
       "      <td>53.235698</td>\n",
       "      <td>22.714806</td>\n",
       "      <td>44.0</td>\n",
       "    </tr>\n",
       "  </tbody>\n",
       "</table>\n",
       "</div>"
      ],
      "text/plain": [
       "   Cpf       Lat      Long        Age        AVG        STD   QTD\n",
       "0    0  0.969486  0.333463  23.799835  46.777250  19.311326  43.0\n",
       "1    1  0.720954  0.097751  18.679779  56.746118  23.402535  56.0\n",
       "2    2  0.377240  0.474020  83.316580  41.842284  19.730031  51.0\n",
       "3    3  0.932243  0.141865  68.905467  56.403298  26.240129  38.0\n",
       "4    4  0.831720  0.561856  63.964840  53.235698  22.714806  44.0"
      ]
     },
     "execution_count": 35,
     "metadata": {},
     "output_type": "execute_result"
    }
   ],
   "source": [
    "result.head()"
   ]
  }
 ],
 "metadata": {
  "kernelspec": {
   "display_name": "Python 3",
   "language": "python",
   "name": "python3"
  },
  "language_info": {
   "codemirror_mode": {
    "name": "ipython",
    "version": 3
   },
   "file_extension": ".py",
   "mimetype": "text/x-python",
   "name": "python",
   "nbconvert_exporter": "python",
   "pygments_lexer": "ipython3",
   "version": "3.7.6"
  }
 },
 "nbformat": 4,
 "nbformat_minor": 4
}
